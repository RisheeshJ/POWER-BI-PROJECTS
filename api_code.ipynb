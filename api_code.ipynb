{
 "cells": [
  {
   "cell_type": "code",
   "execution_count": 12,
   "id": "6ab3c60f-fe6a-432d-8f7d-d122ac0215ee",
   "metadata": {},
   "outputs": [
    {
     "name": "stderr",
     "output_type": "stream",
     "text": [
      "[*********************100%***********************]  1 of 1 completed\n",
      "[*********************100%***********************]  1 of 1 completed\n",
      "[*********************100%***********************]  1 of 1 completed\n",
      "[*********************100%***********************]  1 of 1 completed\n",
      "[*********************100%***********************]  1 of 1 completed\n",
      "[*********************100%***********************]  1 of 1 completed\n",
      "[*********************100%***********************]  1 of 1 completed\n"
     ]
    }
   ],
   "source": [
    "import yfinance as yf\n",
    "import pandas as pd\n",
    "\n",
    "# Define sectors and their corresponding indices\n",
    "sectors = {\n",
    "    \"Conglomerate\": \"^NSEI\",  # Placeholder (use Nifty for now)\n",
    "    \"Banking\": \"^NSEBANK\",    # Nifty Bank Index\n",
    "    \"IT\": \"^CNXIT\",           # Nifty IT Index\n",
    "    \"FMCG\": \"^CNXFMCG\",       # Nifty FMCG Index\n",
    "    \"Oil & Gas\": \"^CNXENERGY\",# Nifty Energy Index\n",
    "    \"Automotive\": \"^CNXAUTO\", # Nifty Auto Index\n",
    "    \"Nifty\": \"^NSEI\"          # Nifty 50 Index\n",
    "}\n",
    "\n",
    "# Fetch daily volatility for each sector and Nifty\n",
    "all_volatility = pd.DataFrame()\n",
    "for sector, ticker in sectors.items():\n",
    "    # Download data\n",
    "    data = yf.download(ticker, start=\"2003-02-01\", end=\"2022-12-31\")\n",
    "    \n",
    "    # Reset index to convert the Date index into a column\n",
    "    data = data.reset_index()\n",
    "    \n",
    "    # Calculate daily returns and volatility\n",
    "    data[\"Daily Return\"] = data[\"Close\"].pct_change()\n",
    "    data[\"Daily Volatility\"] = data[\"Daily Return\"].rolling(window=30).std()\n",
    "    \n",
    "    # Add sector information\n",
    "    data[\"Sector\"] = sector\n",
    "    \n",
    "    # Append to all_volatility\n",
    "    all_volatility = pd.concat([all_volatility, data[[\"Date\", \"Sector\", \"Daily Volatility\"]]], axis=0)\n",
    "\n",
    "# Save to CSV\n",
    "all_volatility.to_csv(\"sector_and_nifty_daily_volatility.csv\", index=False)"
   ]
  },
  {
   "cell_type": "code",
   "execution_count": null,
   "id": "ece15e08-ab2c-4be6-b0e6-25453aa59a37",
   "metadata": {},
   "outputs": [],
   "source": []
  }
 ],
 "metadata": {
  "kernelspec": {
   "display_name": "Python [conda env:base] *",
   "language": "python",
   "name": "conda-base-py"
  },
  "language_info": {
   "codemirror_mode": {
    "name": "ipython",
    "version": 3
   },
   "file_extension": ".py",
   "mimetype": "text/x-python",
   "name": "python",
   "nbconvert_exporter": "python",
   "pygments_lexer": "ipython3",
   "version": "3.12.7"
  }
 },
 "nbformat": 4,
 "nbformat_minor": 5
}
